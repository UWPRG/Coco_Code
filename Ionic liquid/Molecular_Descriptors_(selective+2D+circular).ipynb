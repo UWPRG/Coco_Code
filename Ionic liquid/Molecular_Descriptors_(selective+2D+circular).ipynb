{
 "cells": [
  {
   "cell_type": "code",
   "execution_count": null,
   "metadata": {
    "collapsed": false
   },
   "outputs": [],
   "source": [
    "import pandas as pd\n",
    "import matplotlib.pyplot as plt\n",
    "import numpy as np\n",
    "from __future__ import print_function\n",
    "from rdkit import Chem\n",
    "from rdkit.Chem import AllChem\n",
    "from rdkit.Chem import Descriptors\n",
    "from sklearn.model_selection import train_test_split\n",
    "from sklearn.neural_network import MLPClassifier\n",
    "from rdkit.ML.Descriptors.MoleculeDescriptors import MolecularDescriptorCalculator as Calculator"
   ]
  },
  {
   "cell_type": "markdown",
   "metadata": {},
   "source": [
    "# Read data from inputfile and split error bar"
   ]
  },
  {
   "cell_type": "code",
   "execution_count": null,
   "metadata": {
    "collapsed": false
   },
   "outputs": [],
   "source": [
    "#Data Cleaning\n",
    "data = pd.read_excel(\"inputdata.xlsx\")\n",
    "data['EC_value'], data['EC_error'] = zip(*data['ELE_COD'].map(lambda x: x.split('±')))\n",
    "print(data.shape)\n",
    "data.head()"
   ]
  },
  {
   "cell_type": "markdown",
   "metadata": {},
   "source": [
    "# Generate descriptors selected based on chemical intuition "
   ]
  },
  {
   "cell_type": "code",
   "execution_count": null,
   "metadata": {
    "collapsed": false
   },
   "outputs": [],
   "source": [
    "#Generate Selective Descriptors\n",
    "def gen_selec_des(data):\n",
    "    f = open('Deslist_selective','r')\n",
    "    Deslist = []\n",
    "    for line in f:\n",
    "        Deslist.append(line.strip('\\n\\t'))\n",
    "    print(\"Generating selective descriptors:\")\n",
    "    print(Deslist)\n",
    "    calc = Calculator(Deslist)\n",
    "    n = data.shape[0]\n",
    "    D = len(Deslist)\n",
    "    d = len(Deslist)*2+3\n",
    "    X = np.zeros((n,d))\n",
    "    Y = np.zeros((n,1))\n",
    "    Z = np.zeros((n,1))\n",
    "    X[:,-3] = data['T']\n",
    "    X[:,-2] = data['P']\n",
    "    X[:,-1] = data['MOLFRC_A']\n",
    "    c = 0\n",
    "    for i in range(n):\n",
    "        if i == 2524 :\n",
    "            print(data['A'][i])\n",
    "        A = Chem.MolFromSmiles(data['A'][i])\n",
    "        B = Chem.MolFromSmiles(data['B'][i])\n",
    "        if A is None:\n",
    "            print(\"%d A is invalid\"%(i))\n",
    "            continue\n",
    "        if B is None:\n",
    "            print(\"%d B is invalid\"%(i))\n",
    "            cotinue\n",
    "        X[c][:D]    = calc.CalcDescriptors(A)\n",
    "        X[c][D:2*D] = calc.CalcDescriptors(B)\n",
    "        Y[c] = data['EC_value'][i]\n",
    "        Z[c] = data['EC_error'][i]\n",
    "        c += 1\n",
    "    np.savetxt('Selective_descriptors_X',X)\n",
    "    np.savetxt('Selective_descriptors_Y',Y)\n",
    "    np.savetxt('Selective_descriptors_error',Z)"
   ]
  },
  {
   "cell_type": "markdown",
   "metadata": {},
   "source": [
    "# Generate all 2D descriptors from RDkit!"
   ]
  },
  {
   "cell_type": "code",
   "execution_count": null,
   "metadata": {
    "collapsed": false
   },
   "outputs": [],
   "source": [
    "def gen_2D_des(data):\n",
    "    f = open('Deslist_2D','r')\n",
    "    Deslist = []\n",
    "    for line in f:\n",
    "        Deslist.append(line.strip('\\n\\t'))\n",
    "    print('Generating 2D descriptors')\n",
    "    print(Deslist)\n",
    "    calc = Calculator(Deslist)\n",
    "    n = data.shape[0]\n",
    "    D = len(Deslist)\n",
    "    d = len(Deslist)*2+3\n",
    "    X = np.zeros((n,d))\n",
    "    Y = np.zeros((n,1))\n",
    "    Z = np.zeros((n,1))\n",
    "    X[:,-3] = data['T']\n",
    "    X[:,-2] = data['P']\n",
    "    X[:,-1] = data['MOLFRC_A']\n",
    "    c = 0\n",
    "    for i in range(n):\n",
    "        if i == 2524 :\n",
    "            print(data['A'][i])\n",
    "        A = Chem.MolFromSmiles(data['A'][i])\n",
    "        B = Chem.MolFromSmiles(data['B'][i])\n",
    "        if A is None:\n",
    "            print(\"%d A is invalid\"%(i))\n",
    "            continue\n",
    "        if B is None:\n",
    "            print(\"%d B is invalid\"%(i))\n",
    "            cotinue\n",
    "        X[c][:D]    = calc.CalcDescriptors(A)\n",
    "        X[c][D:2*D] = calc.CalcDescriptors(B)\n",
    "        Y[c] = data['EC_value'][i]\n",
    "        c += 1\n",
    "    np.savetxt('2D_descriptors_X',X)\n",
    "    np.savetxt('2D_descriptors_Y',Y)\n",
    "    np.savetxt('2D_descriptors_error',Z)"
   ]
  },
  {
   "cell_type": "code",
   "execution_count": null,
   "metadata": {
    "collapsed": false
   },
   "outputs": [],
   "source": [
    "gen_selec_des(data)\n",
    "gen_2D_des(data)"
   ]
  }
 ],
 "metadata": {
  "anaconda-cloud": {},
  "kernelspec": {
   "display_name": "Python [default]",
   "language": "python",
   "name": "python3"
  },
  "language_info": {
   "codemirror_mode": {
    "name": "ipython",
    "version": 3
   },
   "file_extension": ".py",
   "mimetype": "text/x-python",
   "name": "python",
   "nbconvert_exporter": "python",
   "pygments_lexer": "ipython3",
   "version": "3.5.2"
  }
 },
 "nbformat": 4,
 "nbformat_minor": 2
}
