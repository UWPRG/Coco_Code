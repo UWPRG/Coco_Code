{
 "cells": [
  {
   "cell_type": "code",
   "execution_count": 1,
   "metadata": {
    "collapsed": true
   },
   "outputs": [],
   "source": [
    "import numpy as np"
   ]
  },
  {
   "cell_type": "code",
   "execution_count": 2,
   "metadata": {
    "collapsed": false
   },
   "outputs": [],
   "source": [
    "#read the pdb file\n",
    "#save atom name and coordinates\n",
    "#generate atom type\n",
    "#save the list of H on two face seperately and Si that bonded to H\n",
    "name = ['',]\n",
    "atp = ['',]\n",
    "dummystr = ['',]\n",
    "x = [0,]\n",
    "y = [0,]\n",
    "z = [0,]\n",
    "charge=[0,]\n",
    "mass=[0,]\n",
    "N = 3200\n",
    "b = [[] for i in range(N+1)]\n",
    "inf = open('Hsilica.pdb','r')\n",
    "htop = []\n",
    "hbot = []\n",
    "\n",
    "for line in inf:\n",
    "    if line.split()[0] == 'HETATM':\n",
    "        n = int(line.split()[1])\n",
    "        name.append(line.split()[2])\n",
    "        x.append(float(line.split()[5]))\n",
    "        y.append(float(line.split()[6]))\n",
    "        z.append(float(line.split()[7]))\n",
    "        if name[n] == 'H':\n",
    "            atp.append('HOY')\n",
    "            charge.append(0.4)\n",
    "            mass.append(1.008)\n",
    "            dummystr.append('H+')\n",
    "            if z[n] > 7 :\n",
    "                htop.append(n)\n",
    "            else:\n",
    "                hbot.append(n)\n",
    "        \n",
    "        if name[n] == 'SI':\n",
    "            atp.append('SC4')\n",
    "            charge.append(1.1)\n",
    "            mass.append(28.086)\n",
    "            dummystr.append('Si4+')\n",
    "        if name[n] =='O':\n",
    "            mass.append(15.9994)\n",
    "            if (z[n]==15.610)or(z[n]==15.012)or(z[n]==0.602)or(z[n]==1.200):\n",
    "                atp.append('OC24')\n",
    "                charge.append(-0.675)\n",
    "            else:\n",
    "                atp.append('OC23')\n",
    "                charge.append(-0.55)\n",
    "            dummystr.append('O2-')\n",
    "    if line.split()[0] == 'CONECT':\n",
    "        n = int(line.split()[1])\n",
    "        for i in range(2,len(line.split())):\n",
    "            b[n].append(int(line.split()[i]))\n",
    "        #print(n,b[n])\n",
    "               "
   ]
  },
  {
   "cell_type": "code",
   "execution_count": 3,
   "metadata": {
    "collapsed": false
   },
   "outputs": [],
   "source": [
    "#Randomly select 18 H from each face\n",
    "#substitude them with Na+\n",
    "#delete the bond beteen H and Si\n",
    "D = 21 # number os H deleted for pH=7\n",
    "deltop = np.random.choice(htop,D)\n",
    "delbot = np.random.choice(hbot,D)\n",
    "for i in range(D):\n",
    "    d1 = deltop[i]\n",
    "    d2 = delbot[i]\n",
    "    \n",
    "    name[d1] = 'Na'\n",
    "    atp[d1] = 'NA+'\n",
    "    dummystr[d1] = 'Na+'\n",
    "    mass[d1] = 22.9898\n",
    "    charge[d1] = 1\n",
    "    z[d1] += 1\n",
    "    \n",
    "    name[d2] = 'Na'\n",
    "    atp[d2] = 'NA+'\n",
    "    dummystr[d2] = 'Na+'\n",
    "    mass[d2]=22.9898\n",
    "    charge[d2]=1\n",
    "    z[d2] -= 1\n",
    "    \n",
    "    for j in b[d1]:\n",
    "        if (name[j]=='O'):\n",
    "            b[d1].remove(j)\n",
    "            b[j].remove(d1)\n",
    "            charge[j] = -0.9\n",
    "            for k in b[j]:\n",
    "                if (name[k]=='SI'):\n",
    "                    charge[k] = 0.725\n",
    "                break\n",
    "            break\n",
    "            \n",
    "    for j in b[d2]:     \n",
    "        if (name[j]=='O'):\n",
    "            b[d2].remove(j)\n",
    "            b[j].remove(d2)\n",
    "            charge[j] = -0.9\n",
    "            for k in b[j]:\n",
    "                if (name[k]=='SI'):\n",
    "                    charge[k] = 0.725\n",
    "                break\n",
    "            break"
   ]
  },
  {
   "cell_type": "code",
   "execution_count": 4,
   "metadata": {
    "collapsed": false
   },
   "outputs": [
    {
     "data": {
      "text/plain": [
       "\"silica = ('SI','O')\\nfor i in range(1,N):\\n    if name[i] in silica\\n    for j in range(i,N+1):\""
      ]
     },
     "execution_count": 4,
     "metadata": {},
     "output_type": "execute_result"
    }
   ],
   "source": [
    "#add trans priodic boundary bonds\n",
    "\"\"\"silica = ('SI','O')\n",
    "for i in range(1,N):\n",
    "    if name[i] in silica\n",
    "    for j in range(i,N+1):\"\"\""
   ]
  },
  {
   "cell_type": "code",
   "execution_count": 5,
   "metadata": {
    "collapsed": false
   },
   "outputs": [],
   "source": [
    "#print new pdb file\n",
    "#open writing file\n",
    "\n",
    "pdb = open('silica.pdb','w')\n",
    "pdb.write('CRYST1   49.130   49.130   30.212  90.00  90.00 120.00 P1          1\\n')\n",
    "for i in range(1,N+1):\n",
    "    pdb.write('HETATM %4d %2s   QUA     1     %6.3f  %6.3f  %6.3f  1.00  0.00     %2s\\n'%(i,name[i],x[i],y[i],z[i],dummystr[i]))\n",
    "pdb.write('END')\n",
    "pdb.close()\n"
   ]
  },
  {
   "cell_type": "code",
   "execution_count": 6,
   "metadata": {
    "collapsed": false
   },
   "outputs": [],
   "source": [
    "#print itp file\n",
    "angle_type = ['OC23SC4OC23','OC24SC4OC24','OC23SC4OC24','SC4OC23SC4','SC4OC24SC4','SC4OC23HOY','SC4OC24HOY']\n",
    "#open writing file\n",
    "itp = open('silica.itp','w')\n",
    "#print moleculetype\n",
    "itp.write('[ moleculetype ]\\n;name            nrexcl\\n QUA             1\\n\\n')\n",
    "#print atom type\n",
    "itp.write('[ atoms ]\\n;   nr  type  resi  res  atom  cgnr     charge      mass       ; qtot   bond_type\\n')\n",
    "for i in range(1,N+1):\n",
    "     itp.write(\"%4d     %4s  1  QUA    %2s  %4d      %f  %f\\n\"%(i,atp[i],name[i],i,charge[i],mass[i]))\n",
    "itp.write('\\n')\n",
    "#print bonds\n",
    "itp.write('[ bonds ]\\n;   ai     aj funct   r             k[ bonds ]\\n')\n",
    "for i in range(1,N+1):\n",
    "    for j in b[i]:\n",
    "        if j>i :\n",
    "            if (atp[i]=='SC4')or(atp[j]=='SC4'):\n",
    "                b0 = 0.168\n",
    "                kb = 238488\n",
    "            else:\n",
    "                b0 = 0.0945\n",
    "                kb = 414216\n",
    "            itp.write(' %4d %4d      1       %f   %f\\n'%(i,j,b0,kb))\n",
    "itp.write('\\n')\n",
    "#print angles\n",
    "itp.write('[ pairs ]\\n\\n[ angles ]\\n;  i    j    k  func       th0       cth\\n')\n",
    "for i in range(1,N+1):\n",
    "    for j in b[i]:\n",
    "        for k in b[j]:\n",
    "            if (i<k):\n",
    "                if (atp[j]=='SC4'):\n",
    "                    th0 = 109.5\n",
    "                    cth = 836.8\n",
    "                elif (atp[i]=='SC4')and(atp[k]=='SC4'):\n",
    "                    th0 = 149.0\n",
    "                    cth = 836.8\n",
    "                else:\n",
    "                    th0 = 115\n",
    "                    cth = 418.4\n",
    "                itp.write(' %4d %4d %4d      5      %4f    %1f  0.0  0.0\\n'%(i,j,k,th0,cth))\n",
    "                if not((atp[i]+atp[j]+atp[k])in angle_type or (atp[k]+atp[j]+atp[i])in angle_type):\n",
    "                    print('error',i,j,k,atp[i],atp[j],atp[k])\n",
    "itp.write('[ dihedrals ]\\n')\n",
    "\n",
    "itp.close()"
   ]
  },
  {
   "cell_type": "code",
   "execution_count": null,
   "metadata": {
    "collapsed": true
   },
   "outputs": [],
   "source": []
  }
 ],
 "metadata": {
  "anaconda-cloud": {},
  "kernelspec": {
   "display_name": "Python [conda root]",
   "language": "python",
   "name": "conda-root-py"
  },
  "language_info": {
   "codemirror_mode": {
    "name": "ipython",
    "version": 3
   },
   "file_extension": ".py",
   "mimetype": "text/x-python",
   "name": "python",
   "nbconvert_exporter": "python",
   "pygments_lexer": "ipython3",
   "version": "3.5.2"
  }
 },
 "nbformat": 4,
 "nbformat_minor": 1
}
